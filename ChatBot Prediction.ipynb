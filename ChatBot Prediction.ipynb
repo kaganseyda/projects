{
  "metadata": {
    "kernelspec": {
      "language": "python",
      "display_name": "Python 3",
      "name": "python3"
    },
    "language_info": {
      "name": "python",
      "version": "3.10.13",
      "mimetype": "text/x-python",
      "codemirror_mode": {
        "name": "ipython",
        "version": 3
      },
      "pygments_lexer": "ipython3",
      "nbconvert_exporter": "python",
      "file_extension": ".py"
    },
    "kaggle": {
      "accelerator": "none",
      "dataSources": [
        {
          "sourceId": 66631,
          "databundleVersionId": 8346466,
          "sourceType": "competition"
        }
      ],
      "dockerImageVersionId": 30732,
      "isInternetEnabled": false,
      "language": "python",
      "sourceType": "notebook",
      "isGpuEnabled": false
    },
    "colab": {
      "name": "project",
      "provenance": [],
      "include_colab_link": true
    }
  },
  "nbformat_minor": 0,
  "nbformat": 4,
  "cells": [
    {
      "cell_type": "markdown",
      "metadata": {
        "id": "view-in-github",
        "colab_type": "text"
      },
      "source": [
        "<a href=\"https://colab.research.google.com/github/kaganseyda/projects/blob/Machine-Learning-Trained-Models/ChatBot%20Prediction.ipynb\" target=\"_parent\"><img src=\"https://colab.research.google.com/assets/colab-badge.svg\" alt=\"Open In Colab\"/></a>"
      ]
    },
    {
      "source": [
        "\n",
        "# IMPORTANT: RUN THIS CELL IN ORDER TO IMPORT YOUR KAGGLE DATA SOURCES\n",
        "# TO THE CORRECT LOCATION (/kaggle/input) IN YOUR NOTEBOOK,\n",
        "# THEN FEEL FREE TO DELETE THIS CELL.\n",
        "# NOTE: THIS NOTEBOOK ENVIRONMENT DIFFERS FROM KAGGLE'S PYTHON\n",
        "# ENVIRONMENT SO THERE MAY BE MISSING LIBRARIES USED BY YOUR\n",
        "# NOTEBOOK.\n",
        "\n",
        "import os\n",
        "import sys\n",
        "from tempfile import NamedTemporaryFile\n",
        "from urllib.request import urlopen\n",
        "from urllib.parse import unquote, urlparse\n",
        "from urllib.error import HTTPError\n",
        "from zipfile import ZipFile\n",
        "import tarfile\n",
        "import shutil\n",
        "\n",
        "CHUNK_SIZE = 40960\n",
        "DATA_SOURCE_MAPPING = 'lmsys-chatbot-arena:https%3A%2F%2Fstorage.googleapis.com%2Fkaggle-competitions-data%2Fkaggle-v2%2F66631%2F8346466%2Fbundle%2Farchive.zip%3FX-Goog-Algorithm%3DGOOG4-RSA-SHA256%26X-Goog-Credential%3Dgcp-kaggle-com%2540kaggle-161607.iam.gserviceaccount.com%252F20240708%252Fauto%252Fstorage%252Fgoog4_request%26X-Goog-Date%3D20240708T172854Z%26X-Goog-Expires%3D259200%26X-Goog-SignedHeaders%3Dhost%26X-Goog-Signature%3D08638f47adc3aa5993efc57a24411d77254a50b67bd1a9f44ae6c4351efeb796880a25576d555d10961d836cac3ff42a696c487dde014083938763b14f31238aa4345b7c33c596ea0f3e521f58134c5521568958426f46d97057a5a5f9f1afaef169690f9472c2269c0e5e8734a57dcd1f9d9b24e73631adb9888ef17b0ca63201a0c1771cd3a3c5af36b62688abcc2f0019233b326e1dd05e3b87fd7aa3c938bd408cb7858a8a540b8e471f670e14fc0b56c8a8c54c02a9d2560c45363811443ab4e9381c5c8840f769e2a2dc25450503839c421bf5dc8d869915589b5dd3d0344e2fb109384f13e29f5d95b4f8f6b66589daa54a927c9e599cf095423fec3b'\n",
        "\n",
        "KAGGLE_INPUT_PATH='/kaggle/input'\n",
        "KAGGLE_WORKING_PATH='/kaggle/working'\n",
        "KAGGLE_SYMLINK='kaggle'\n",
        "\n",
        "!umount /kaggle/input/ 2> /dev/null\n",
        "shutil.rmtree('/kaggle/input', ignore_errors=True)\n",
        "os.makedirs(KAGGLE_INPUT_PATH, 0o777, exist_ok=True)\n",
        "os.makedirs(KAGGLE_WORKING_PATH, 0o777, exist_ok=True)\n",
        "\n",
        "try:\n",
        "  os.symlink(KAGGLE_INPUT_PATH, os.path.join(\"..\", 'input'), target_is_directory=True)\n",
        "except FileExistsError:\n",
        "  pass\n",
        "try:\n",
        "  os.symlink(KAGGLE_WORKING_PATH, os.path.join(\"..\", 'working'), target_is_directory=True)\n",
        "except FileExistsError:\n",
        "  pass\n",
        "\n",
        "for data_source_mapping in DATA_SOURCE_MAPPING.split(','):\n",
        "    directory, download_url_encoded = data_source_mapping.split(':')\n",
        "    download_url = unquote(download_url_encoded)\n",
        "    filename = urlparse(download_url).path\n",
        "    destination_path = os.path.join(KAGGLE_INPUT_PATH, directory)\n",
        "    try:\n",
        "        with urlopen(download_url) as fileres, NamedTemporaryFile() as tfile:\n",
        "            total_length = fileres.headers['content-length']\n",
        "            print(f'Downloading {directory}, {total_length} bytes compressed')\n",
        "            dl = 0\n",
        "            data = fileres.read(CHUNK_SIZE)\n",
        "            while len(data) > 0:\n",
        "                dl += len(data)\n",
        "                tfile.write(data)\n",
        "                done = int(50 * dl / int(total_length))\n",
        "                sys.stdout.write(f\"\\r[{'=' * done}{' ' * (50-done)}] {dl} bytes downloaded\")\n",
        "                sys.stdout.flush()\n",
        "                data = fileres.read(CHUNK_SIZE)\n",
        "            if filename.endswith('.zip'):\n",
        "              with ZipFile(tfile) as zfile:\n",
        "                zfile.extractall(destination_path)\n",
        "            else:\n",
        "              with tarfile.open(tfile.name) as tarfile:\n",
        "                tarfile.extractall(destination_path)\n",
        "            print(f'\\nDownloaded and uncompressed: {directory}')\n",
        "    except HTTPError as e:\n",
        "        print(f'Failed to load (likely expired) {download_url} to path {destination_path}')\n",
        "        continue\n",
        "    except OSError as e:\n",
        "        print(f'Failed to load {download_url} to path {destination_path}')\n",
        "        continue\n",
        "\n",
        "print('Data source import complete.')\n"
      ],
      "metadata": {
        "id": "jlrYLSSNZDYA"
      },
      "cell_type": "code",
      "outputs": [],
      "execution_count": null
    },
    {
      "cell_type": "code",
      "source": [
        "import pandas as pd\n",
        "import numpy as np\n",
        "from sklearn.feature_extraction.text import TfidfVectorizer\n",
        "from sklearn.neural_network import MLPClassifier\n",
        "from sklearn.model_selection import train_test_split\n",
        "from sklearn.metrics import accuracy_score\n",
        "\n",
        "\n",
        "\n"
      ],
      "metadata": {
        "execution": {
          "iopub.status.busy": "2024-07-08T17:19:12.559891Z",
          "iopub.execute_input": "2024-07-08T17:19:12.56031Z",
          "iopub.status.idle": "2024-07-08T17:19:12.567057Z",
          "shell.execute_reply.started": "2024-07-08T17:19:12.560277Z",
          "shell.execute_reply": "2024-07-08T17:19:12.565773Z"
        },
        "trusted": true,
        "id": "RoW1Pj9HZDYC"
      },
      "execution_count": null,
      "outputs": []
    },
    {
      "cell_type": "code",
      "source": [
        "\n",
        "import pandas as pd\n",
        "import numpy as np\n",
        "from sklearn.feature_extraction.text import TfidfVectorizer\n",
        "from sklearn.ensemble import RandomForestClassifier\n",
        "from sklearn.model_selection import train_test_split\n",
        "from sklearn.metrics import accuracy_score\n",
        "from sklearn.model_selection import RandomizedSearchCV\n",
        "from scipy.stats import uniform\n",
        "\n",
        "# Load data\n",
        "train=pd.read_csv('/kaggle/input/lmsys-chatbot-arena/train.csv')\n",
        "\n",
        "test=pd.read_csv('/kaggle/input/lmsys-chatbot-arena/test.csv')"
      ],
      "metadata": {
        "_uuid": "1ee1ca2b-f579-4160-bc87-507e4eb9d53e",
        "_cell_guid": "a65c2f5a-7af3-4733-95d0-41e43954278d",
        "jupyter": {
          "outputs_hidden": false
        },
        "execution": {
          "iopub.status.busy": "2024-07-08T17:10:54.88579Z",
          "iopub.execute_input": "2024-07-08T17:10:54.88624Z",
          "iopub.status.idle": "2024-07-08T17:10:57.112882Z",
          "shell.execute_reply.started": "2024-07-08T17:10:54.886206Z",
          "shell.execute_reply": "2024-07-08T17:10:57.111536Z"
        },
        "trusted": true,
        "id": "yTBosR-QZDYC"
      },
      "execution_count": null,
      "outputs": []
    },
    {
      "cell_type": "code",
      "source": [
        "train=train.drop('model_b',axis=1)\n",
        "\n",
        "train.head()"
      ],
      "metadata": {
        "execution": {
          "iopub.status.busy": "2024-07-08T17:14:30.641496Z",
          "iopub.execute_input": "2024-07-08T17:14:30.641965Z",
          "iopub.status.idle": "2024-07-08T17:14:30.66279Z",
          "shell.execute_reply.started": "2024-07-08T17:14:30.641929Z",
          "shell.execute_reply": "2024-07-08T17:14:30.661309Z"
        },
        "trusted": true,
        "id": "vnFlQkQxZDYC",
        "outputId": "3559ebdb-22bb-4007-b5a9-4808dbdde334"
      },
      "execution_count": null,
      "outputs": [
        {
          "execution_count": 10,
          "output_type": "execute_result",
          "data": {
            "text/plain": "       id                                         response_a  \\\n0   30192  [\"The question of whether it is morally right ...   \n1   53567  [\"A marriage license is a legal document that ...   \n2   65089  [\"Function calling is the process of invoking ...   \n3   96401  [\"Creating a test set for a very rare category...   \n4  198779  [\"The best way to travel from Tel Aviv to Jeru...   \n\n                                          response_b  winner_model_a  \\\n0  [\"As an AI, I don't have personal beliefs or o...               1   \n1  [\"A marriage license and a marriage certificat...               0   \n2  [\"Function calling is the process of invoking ...               0   \n3  [\"When building a classifier for a very rare c...               1   \n4  [\"The best way to travel from Tel-Aviv to Jeru...               0   \n\n   winner_model_b  winner_tie  \n0               0           0  \n1               1           0  \n2               0           1  \n3               0           0  \n4               1           0  ",
            "text/html": "<div>\n<style scoped>\n    .dataframe tbody tr th:only-of-type {\n        vertical-align: middle;\n    }\n\n    .dataframe tbody tr th {\n        vertical-align: top;\n    }\n\n    .dataframe thead th {\n        text-align: right;\n    }\n</style>\n<table border=\"1\" class=\"dataframe\">\n  <thead>\n    <tr style=\"text-align: right;\">\n      <th></th>\n      <th>id</th>\n      <th>response_a</th>\n      <th>response_b</th>\n      <th>winner_model_a</th>\n      <th>winner_model_b</th>\n      <th>winner_tie</th>\n    </tr>\n  </thead>\n  <tbody>\n    <tr>\n      <th>0</th>\n      <td>30192</td>\n      <td>[\"The question of whether it is morally right ...</td>\n      <td>[\"As an AI, I don't have personal beliefs or o...</td>\n      <td>1</td>\n      <td>0</td>\n      <td>0</td>\n    </tr>\n    <tr>\n      <th>1</th>\n      <td>53567</td>\n      <td>[\"A marriage license is a legal document that ...</td>\n      <td>[\"A marriage license and a marriage certificat...</td>\n      <td>0</td>\n      <td>1</td>\n      <td>0</td>\n    </tr>\n    <tr>\n      <th>2</th>\n      <td>65089</td>\n      <td>[\"Function calling is the process of invoking ...</td>\n      <td>[\"Function calling is the process of invoking ...</td>\n      <td>0</td>\n      <td>0</td>\n      <td>1</td>\n    </tr>\n    <tr>\n      <th>3</th>\n      <td>96401</td>\n      <td>[\"Creating a test set for a very rare category...</td>\n      <td>[\"When building a classifier for a very rare c...</td>\n      <td>1</td>\n      <td>0</td>\n      <td>0</td>\n    </tr>\n    <tr>\n      <th>4</th>\n      <td>198779</td>\n      <td>[\"The best way to travel from Tel Aviv to Jeru...</td>\n      <td>[\"The best way to travel from Tel-Aviv to Jeru...</td>\n      <td>0</td>\n      <td>1</td>\n      <td>0</td>\n    </tr>\n  </tbody>\n</table>\n</div>"
          },
          "metadata": {}
        }
      ]
    },
    {
      "cell_type": "code",
      "source": [
        "\n",
        "\n",
        "stopwords = ['i', 'me', 'my', 'myself', 'we', 'our', 'ours',\n",
        "'ourselves', 'you', \"you're\", \"you've\", \"you'll\", \"you'd\", 'your', 'yours', 'yourself',\n",
        "'yourselves', 'he', 'him', 'his', 'himself', 'she', \"she's\", 'her', 'hers', 'herself',\n",
        "'it', \"it's\", 'its', 'itself', 'they', 'them', 'their', 'theirs', 'themselves',\n",
        " 'what', 'which', 'who', 'whom', 'this', 'that', \"that'll\", 'these', 'those', 'am', 'is', 'are',\n",
        " 'was', 'were', 'be', 'been', 'being', 'have', 'has', 'had', 'having', 'do', 'does', 'did', 'doing',\n",
        " 'a', 'an', 'the', 'and', 'but', 'if', 'or', 'because', 'as', 'until', 'while', 'of', 'at', 'by', 'for',\n",
        "'with', 'about', 'against', 'between', 'into', 'through', 'during', 'before', 'after', 'above', 'below', 'to',\n",
        "'from', 'up', 'down', 'in', 'out', 'on', 'off', 'over', 'under', 'again', 'further', 'then', 'once',\n",
        "'here', 'there', 'when', 'where', 'why', 'how', 'all', 'any', 'both', 'each', 'few', 'more', 'most',\n",
        "'other', 'some', 'such', 'no', 'nor', 'not', 'only', 'own', 'same', 'so', 'than', 'too', 'very',\n",
        "'s', 't', 'can', 'will', 'just', 'don', \"don't\", 'should', \"should've\", 'now', 'd', 'll', 'm', 'o', 're', 've', 'y',\n",
        " 'ain', 'aren', \"aren't\", 'couldn', \"couldn't\", 'didn', \"didn't\", 'doesn', \"doesn't\",\n",
        "'hadn', \"hadn't\", 'hasn', \"hasn't\", 'haven', \"haven't\", 'isn', \"isn't\", 'ma', 'mightn',\n",
        " \"mightn't\", 'mustn', \"mustn't\", 'needn', \"needn't\", 'shan', \"shan't\", 'shouldn', \"shouldn't\",\n",
        "'wasn', \"wasn't\", 'weren', \"weren't\", 'won', \"won't\", 'wouldn', \"wouldn't\"]\n",
        "\n",
        "for word in stopwords:\n",
        "    word = \" \" + word + \" \"\n",
        "\n",
        "    train['response_a'] = train['response_a'].str.replace(word, \" \")\n",
        "    train['response_b'] = train['response_b'].str.replace(word, \" \")\n",
        "\n",
        "    test['response_a'] = test['response_a'].str.replace(word, \" \")\n",
        "    test['response_b'] = test['response_b'].str.replace(word, \" \")\n",
        "\n",
        "\n"
      ],
      "metadata": {
        "execution": {
          "iopub.status.busy": "2024-07-08T17:19:13.69213Z",
          "iopub.execute_input": "2024-07-08T17:19:13.69255Z",
          "iopub.status.idle": "2024-07-08T17:20:15.157688Z",
          "shell.execute_reply.started": "2024-07-08T17:19:13.692518Z",
          "shell.execute_reply": "2024-07-08T17:20:15.156419Z"
        },
        "trusted": true,
        "id": "WPh-W_ByZDYD"
      },
      "execution_count": null,
      "outputs": []
    },
    {
      "cell_type": "code",
      "source": [
        "tfidf = TfidfVectorizer()\n",
        "combined_text_train = train['response_a'] + ' ' + train['response_b']\n",
        "combined_text_test =  test['response_a'] + ' ' + test['response_b']\n",
        "tfidf.fit(combined_text_train)\n",
        "X_train = tfidf.transform(combined_text_train)\n",
        "X_test = tfidf.transform(combined_text_test)\n",
        "\n",
        "\n"
      ],
      "metadata": {
        "execution": {
          "iopub.status.busy": "2024-07-08T17:22:08.043879Z",
          "iopub.execute_input": "2024-07-08T17:22:08.04439Z",
          "iopub.status.idle": "2024-07-08T17:22:51.509567Z",
          "shell.execute_reply.started": "2024-07-08T17:22:08.044337Z",
          "shell.execute_reply": "2024-07-08T17:22:51.508077Z"
        },
        "trusted": true,
        "id": "re3Go9V9ZDYD"
      },
      "execution_count": null,
      "outputs": []
    },
    {
      "cell_type": "code",
      "source": [
        "y_train = train[['winner_model_a', 'winner_model_b', 'winner_tie']]\n",
        "\n",
        "\n",
        "mlp_model = MLPClassifier(hidden_layer_sizes=(250,), activation='logistic', solver='lbfgs',max_iter=1000, random_state=42)\n",
        "\n",
        "\n",
        "mlp_model.fit(X_train, y_train)\n",
        "pred_proba = mlp_model.predict_proba(X_test)\n"
      ],
      "metadata": {
        "execution": {
          "iopub.status.busy": "2024-07-08T17:26:05.545249Z",
          "iopub.execute_input": "2024-07-08T17:26:05.546431Z"
        },
        "trusted": true,
        "id": "n-RvVAMlZDYD"
      },
      "execution_count": null,
      "outputs": []
    },
    {
      "cell_type": "code",
      "source": [
        "accuracy = accuracy_score(X_test, pred_proba)\n",
        "\n"
      ],
      "metadata": {
        "id": "1YNPPr-MZDYD"
      },
      "execution_count": null,
      "outputs": []
    },
    {
      "cell_type": "code",
      "source": [
        "\n",
        "pred_model_a_proba = pred_proba[:, 0]\n",
        "pred_model_b_proba = pred_proba[:, 1]\n",
        "pred_model_tie_proba = pred_proba[:, 2]\n",
        "\n",
        "\n",
        "total_percentage = pred_model_a_proba + pred_model_b_proba + pred_model_tie_proba\n",
        "pred_model_a_proba /= total_percentage\n",
        "pred_model_b_proba /= total_percentage\n",
        "pred_model_tie_proba /= total_percentage\n",
        "\n",
        "\n",
        "submission_df = pd.DataFrame({\n",
        "    'id': test['id'],\n",
        "    'winner_model_a': pred_model_a_proba,\n",
        "    'winner_model_b': pred_model_b_proba,\n",
        "    'winner_tie': pred_model_tie_proba\n",
        "})\n",
        "submission_df.to_csv('submission.csv', index=False)"
      ],
      "metadata": {
        "id": "-Iay0hQqZDYD"
      },
      "execution_count": null,
      "outputs": []
    }
  ]
}